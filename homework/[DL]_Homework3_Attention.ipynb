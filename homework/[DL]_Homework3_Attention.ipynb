{
  "cells": [
    {
      "cell_type": "code",
      "execution_count": null,
      "metadata": {
        "id": "dNpIlCwFJjk3"
      },
      "outputs": [],
      "source": [
        "import tensorflow as tf\n",
        "from tensorflow.keras.datasets import imdb\n",
        "from tensorflow.keras.models import Sequential\n",
        "from tensorflow.keras.layers import Dense, Bidirectional\n",
        "from tensorflow.keras.layers import LSTM, SimpleRNN\n",
        "from tensorflow.keras.layers import Embedding\n",
        "from tensorflow.keras.layers import Dropout,Flatten\n",
        "from tensorflow.keras.layers import Attention, BatchNormalization\n",
        "from tensorflow.keras.preprocessing import sequence\n",
        "from keras.callbacks import ReduceLROnPlateau, EarlyStopping\n",
        "\n",
        "import matplotlib.pyplot as plt\n",
        "tf.random.set_seed(7)"
      ]
    },
    {
      "cell_type": "markdown",
      "metadata": {
        "id": "XvcwGzYgWGOp"
      },
      "source": [
        "## IMDB movie review sentiment classification dataset\n",
        "This is a dataset of 25,000 movies reviews from IMDB, labeled by sentiment (positive/negative). Reviews have been preprocessed, and each review is encoded as a list of word indexes (integers). For convenience, words are indexed by overall frequency in the dataset, so that for instance the integer \"3\" encodes the 3rd most frequent word in the data. This allows for quick filtering operations such as: \"only consider the top 10,000 most common words, but eliminate the top 20 most common words\".\n",
        "\n",
        "[Keras API reference / Built-in small datasets / IMDB movie review sentiment classification dataset](https://keras.io/api/datasets/imdb/)"
      ]
    },
    {
      "cell_type": "code",
      "execution_count": null,
      "metadata": {
        "colab": {
          "base_uri": "https://localhost:8080/"
        },
        "id": "nb0pnCyCJ14v",
        "outputId": "b2f8fc67-6308-4ff2-f295-65f050dc9814"
      },
      "outputs": [],
      "source": [
        "# load the dataset but only keep the top n words, zero the rest\n",
        "top_words = 5000\n",
        "(X_train, y_train), (X_test, y_test) = imdb.load_data(num_words=top_words)"
      ]
    },
    {
      "cell_type": "code",
      "execution_count": null,
      "metadata": {
        "id": "9fy0UUXOJ62U"
      },
      "outputs": [],
      "source": [
        "# truncate and pad input sequences\n",
        "max_review_length = 500\n",
        "X_train = sequence.pad_sequences(X_train, maxlen=max_review_length)\n",
        "X_test = sequence.pad_sequences(X_test, maxlen=max_review_length)"
      ]
    },
    {
      "cell_type": "code",
      "execution_count": null,
      "metadata": {
        "colab": {
          "base_uri": "https://localhost:8080/"
        },
        "id": "q3I2IMwLLcU7",
        "outputId": "564097df-1766-40e6-a694-fd97548b93b4"
      },
      "outputs": [],
      "source": [
        "X_train.shape, X_test.shape"
      ]
    },
    {
      "cell_type": "code",
      "execution_count": null,
      "metadata": {
        "colab": {
          "base_uri": "https://localhost:8080/"
        },
        "id": "y2IQDjSOLAbM",
        "outputId": "a26ce2af-f69e-4f83-85fd-56d7d867793a"
      },
      "outputs": [],
      "source": [
        "X_train[:5]"
      ]
    },
    {
      "cell_type": "code",
      "execution_count": null,
      "metadata": {
        "id": "vFIXI8mtOcAY"
      },
      "outputs": [],
      "source": [
        "def plot_history(history, metrics, model_name:str):\n",
        "    fig = plt.figure(figsize=[8, 4])\n",
        "    for metric in metrics:\n",
        "        plt.plot(history.history[metric], label='train '+ metric)\n",
        "        plt.plot(history.history['val_' + metric], label='val ' + metric)        \n",
        "    plt.legend()    \n",
        "    plt.xlabel('epoch')\n",
        "    plt.ylabel(\" \".join(metrics))\n",
        "    plt.xticks(list(range(0, len(history.history[metrics[0]]), 2)))\n",
        "    plt.grid(visible=True)\n",
        "    plt.title(model_name + \" training history [\" + \" \".join(metrics) + \"]\")"
      ]
    },
    {
      "cell_type": "markdown",
      "metadata": {
        "id": "hp67R9aNLZCM"
      },
      "source": [
        "## Model 1 \n",
        "- 2 LSTM layer"
      ]
    },
    {
      "cell_type": "code",
      "execution_count": null,
      "metadata": {
        "id": "zcDD7GyASHPe"
      },
      "outputs": [],
      "source": [
        "embedding_vecor_length = 32"
      ]
    },
    {
      "cell_type": "code",
      "execution_count": null,
      "metadata": {
        "colab": {
          "base_uri": "https://localhost:8080/"
        },
        "id": "ENxFZ9AsK7Eu",
        "outputId": "94ff78d3-1875-4086-fd88-e2648b33d6d1"
      },
      "outputs": [],
      "source": [
        "# create the model\n",
        "\n",
        "model1 = Sequential([\n",
        "    Embedding(top_words, embedding_vecor_length, input_length=max_review_length),\n",
        "    Dropout(0.2),\n",
        "    LSTM(100, return_sequences=True),\n",
        "    LSTM(100, return_sequences=True),\n",
        "    LSTM(100, return_sequences=True),\n",
        "    \n",
        "    Flatten(),\n",
        "    Dense(64),\n",
        "    BatchNormalization(),\n",
        "    Dropout(0.2),\n",
        "    Dense(32),\n",
        "    BatchNormalization(),\n",
        "    Dropout(0.2),\n",
        "    Dense(16),\n",
        "    BatchNormalization(),\n",
        "    Dropout(0.1),\n",
        "\n",
        "    Dense(1, activation='sigmoid')\n",
        "])\n",
        "\n",
        "\n",
        "model1.compile(loss='binary_crossentropy', optimizer='adam', metrics=['accuracy'])\n",
        "print(model1.summary())"
      ]
    },
    {
      "cell_type": "code",
      "execution_count": null,
      "metadata": {},
      "outputs": [],
      "source": [
        "reduce_lr = ReduceLROnPlateau(\n",
        "    monitor=\"val_loss\",\n",
        "    patience=3                              \n",
        ")\n",
        "early_stop = EarlyStopping(\n",
        "    monitor=\"val_loss\",\n",
        "    patience=3,\n",
        "    restore_best_weights=True\n",
        ")\n",
        "callbacks=[reduce_lr, early_stop]"
      ]
    },
    {
      "cell_type": "code",
      "execution_count": null,
      "metadata": {
        "colab": {
          "base_uri": "https://localhost:8080/"
        },
        "id": "YC_vn85CK-EM",
        "outputId": "d804c655-ccfc-4b0e-ec2e-9a913b7fe29e"
      },
      "outputs": [],
      "source": [
        "history1 = model1.fit(\n",
        "    X_train, y_train, \n",
        "    validation_split=0.2, \n",
        "    epochs=15, \n",
        "    batch_size=64,\n",
        "    callbacks=callbacks\n",
        ")"
      ]
    },
    {
      "cell_type": "code",
      "execution_count": null,
      "metadata": {
        "colab": {
          "base_uri": "https://localhost:8080/",
          "height": 573
        },
        "id": "t_ff4cnEOx7V",
        "outputId": "46a1706b-4242-453c-ea00-cbd6ec744325"
      },
      "outputs": [],
      "source": [
        "plot_history(history=history1, metrics=[\"accuracy\"],model_name=\"\")\n",
        "plot_history(history=history1, metrics=[\"loss\"],model_name=\"\")"
      ]
    },
    {
      "cell_type": "code",
      "execution_count": null,
      "metadata": {
        "colab": {
          "base_uri": "https://localhost:8080/"
        },
        "id": "1mUH81wRLWRR",
        "outputId": "106b0478-938e-4f56-8cef-65fa17842644"
      },
      "outputs": [],
      "source": [
        "# Final evaluation of the model\n",
        "scores = model1.evaluate(X_test, y_test, verbose=0)\n",
        "print(\"Accuracy: %.2f%%\" % (scores[1]*100))\n",
        "print(\"Loss: %.2f%%\" % (scores[0]*100))"
      ]
    },
    {
      "attachments": {},
      "cell_type": "markdown",
      "metadata": {
        "id": "5Yn5U_t2MieQ"
      },
      "source": [
        "## Model 2\n",
        "- LSTM with Attention"
      ]
    },
    {
      "cell_type": "code",
      "execution_count": null,
      "metadata": {
        "colab": {
          "base_uri": "https://localhost:8080/"
        },
        "id": "FEJ4tyRlMhzn",
        "outputId": "9824a503-d49d-43b3-a4de-ff7290bc1efd"
      },
      "outputs": [],
      "source": [
        "# create the model\n",
        "\n",
        "model2 = Sequential([\n",
        "    Embedding(top_words, embedding_vecor_length, input_length=max_review_length),\n",
        "    Dropout(0.2),\n",
        "    LSTM(100, return_sequences=True),\n",
        "    Attention(),\n",
        "    LSTM(100, return_sequences=True),\n",
        "    Attention(),\n",
        "    LSTM(100, return_sequences=True),\n",
        "    Attention(),\n",
        "    \n",
        "    Flatten(),\n",
        "    Dense(64),\n",
        "    BatchNormalization(),\n",
        "    Dropout(0.2),\n",
        "    Dense(32),\n",
        "    BatchNormalization(),\n",
        "    Dropout(0.2),\n",
        "    Dense(16),\n",
        "    BatchNormalization(),\n",
        "    Dropout(0.1),\n",
        "\n",
        "    Dense(1, activation='sigmoid')\n",
        "])\n",
        "\n",
        "\n",
        "model2.compile(loss='binary_crossentropy', optimizer='adam', metrics=['accuracy'])\n",
        "print(model2.summary())"
      ]
    },
    {
      "cell_type": "code",
      "execution_count": null,
      "metadata": {
        "colab": {
          "base_uri": "https://localhost:8080/"
        },
        "id": "PMtm6F9FM9uM",
        "outputId": "2e0ce3ec-5dbc-46d6-e183-b198b64c5a78"
      },
      "outputs": [],
      "source": [
        "history2 = model2.fit(\n",
        "    X_train, y_train, \n",
        "    validation_split=0.2, \n",
        "    epochs=15, \n",
        "    batch_size=64,\n",
        "    callbacks=callbacks\n",
        ")"
      ]
    },
    {
      "cell_type": "code",
      "execution_count": null,
      "metadata": {
        "colab": {
          "base_uri": "https://localhost:8080/"
        },
        "id": "Vg9uD52JM_48",
        "outputId": "fd43e1bd-44b8-4412-b121-1860606ded39"
      },
      "outputs": [],
      "source": [
        "# Final evaluation of the model\n",
        "scores2 = model2.evaluate(X_test, y_test, verbose=0)\n",
        "print(\"Accuracy: %.2f%%\" % (scores2[1]*100))"
      ]
    },
    {
      "cell_type": "code",
      "execution_count": null,
      "metadata": {
        "id": "JqrSLN15PLfs"
      },
      "outputs": [],
      "source": [
        "plot_history(history=history2, metrics=[\"accuracy\"],model_name=\"\")\n",
        "plot_history(history=history2, metrics=[\"loss\"],model_name=\"\")"
      ]
    }
  ],
  "metadata": {
    "accelerator": "GPU",
    "colab": {
      "provenance": []
    },
    "gpuClass": "standard",
    "kernelspec": {
      "display_name": "aiml",
      "language": "python",
      "name": "python3"
    },
    "language_info": {
      "codemirror_mode": {
        "name": "ipython",
        "version": 3
      },
      "file_extension": ".py",
      "mimetype": "text/x-python",
      "name": "python",
      "nbconvert_exporter": "python",
      "pygments_lexer": "ipython3",
      "version": "3.10.9"
    },
    "vscode": {
      "interpreter": {
        "hash": "5b9ec4183a30cf8b2f983fd208cc1b24879bc33f4463829c436cb9b013f69fe8"
      }
    }
  },
  "nbformat": 4,
  "nbformat_minor": 0
}
