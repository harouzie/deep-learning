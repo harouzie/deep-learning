{
  "nbformat": 4,
  "nbformat_minor": 0,
  "metadata": {
    "colab": {
      "provenance": []
    },
    "kernelspec": {
      "name": "python3",
      "display_name": "Python 3"
    },
    "language_info": {
      "name": "python"
    },
    "accelerator": "GPU",
    "gpuClass": "standard"
  },
  "cells": [
    {
      "cell_type": "code",
      "execution_count": 1,
      "metadata": {
        "id": "dNpIlCwFJjk3"
      },
      "outputs": [],
      "source": [
        "import tensorflow as tf\n",
        "from tensorflow.keras.datasets import imdb\n",
        "from tensorflow.keras.models import Sequential\n",
        "from tensorflow.keras.layers import Dense, Bidirectional\n",
        "from tensorflow.keras.layers import LSTM, SimpleRNN\n",
        "from tensorflow.keras.layers import Embedding\n",
        "from tensorflow.keras.layers import Dropout\n",
        "from tensorflow.keras.preprocessing import sequence\n",
        "import matplotlib.pyplot as plt\n",
        "tf.random.set_seed(7)"
      ]
    },
    {
      "cell_type": "code",
      "source": [
        "# load the dataset but only keep the top n words, zero the rest\n",
        "top_words = 5000\n",
        "(X_train, y_train), (X_test, y_test) = imdb.load_data(num_words=top_words)"
      ],
      "metadata": {
        "id": "nb0pnCyCJ14v"
      },
      "execution_count": 2,
      "outputs": []
    },
    {
      "cell_type": "code",
      "source": [
        "# truncate and pad input sequences\n",
        "max_review_length = 500\n",
        "X_train = sequence.pad_sequences(X_train, maxlen=max_review_length)\n",
        "X_test = sequence.pad_sequences(X_test, maxlen=max_review_length)"
      ],
      "metadata": {
        "id": "9fy0UUXOJ62U"
      },
      "execution_count": 3,
      "outputs": []
    },
    {
      "cell_type": "code",
      "source": [
        "X_train.shape, X_test.shape"
      ],
      "metadata": {
        "colab": {
          "base_uri": "https://localhost:8080/"
        },
        "id": "q3I2IMwLLcU7",
        "outputId": "5f317ad2-8c7c-4168-acf2-6415c762d781"
      },
      "execution_count": 4,
      "outputs": [
        {
          "output_type": "execute_result",
          "data": {
            "text/plain": [
              "((25000, 500), (25000, 500))"
            ]
          },
          "metadata": {},
          "execution_count": 4
        }
      ]
    },
    {
      "cell_type": "code",
      "source": [
        "X_train[:5]"
      ],
      "metadata": {
        "colab": {
          "base_uri": "https://localhost:8080/"
        },
        "id": "y2IQDjSOLAbM",
        "outputId": "786960d0-7053-4fc3-949e-5335e72033f9"
      },
      "execution_count": 5,
      "outputs": [
        {
          "output_type": "execute_result",
          "data": {
            "text/plain": [
              "array([[   0,    0,    0, ...,   19,  178,   32],\n",
              "       [   0,    0,    0, ...,   16,  145,   95],\n",
              "       [   0,    0,    0, ...,    7,  129,  113],\n",
              "       [ 687,   23,    4, ...,   21,   64, 2574],\n",
              "       [   0,    0,    0, ...,    7,   61,  113]], dtype=int32)"
            ]
          },
          "metadata": {},
          "execution_count": 5
        }
      ]
    },
    {
      "cell_type": "code",
      "source": [
        "def plot_history(history, metrics, model_name:str):\n",
        "    fig = plt.figure(figsize=[8, 4])\n",
        "    for metric in metrics:\n",
        "        plt.plot(history.history[metric], label='train '+ metric)\n",
        "        plt.plot(history.history['val_' + metric], label='val ' + metric)        \n",
        "    plt.legend()    \n",
        "    plt.xlabel('epoch')\n",
        "    plt.ylabel(\" \".join(metrics))\n",
        "    plt.xticks(list(range(0, len(history.history[metrics[0]]), 2)))\n",
        "    plt.grid(visible=True)\n",
        "    plt.title(model_name + \" training history [\" + \" \".join(metrics) + \"]\")"
      ],
      "metadata": {
        "id": "vFIXI8mtOcAY"
      },
      "execution_count": 6,
      "outputs": []
    },
    {
      "cell_type": "markdown",
      "source": [
        "## Model 1 \n",
        "- 2 LSTM layer"
      ],
      "metadata": {
        "id": "hp67R9aNLZCM"
      }
    },
    {
      "cell_type": "code",
      "source": [
        "embedding_vecor_length = 32"
      ],
      "metadata": {
        "id": "zcDD7GyASHPe"
      },
      "execution_count": 8,
      "outputs": []
    },
    {
      "cell_type": "code",
      "source": [
        "# create the model\n",
        "\n",
        "model = Sequential()\n",
        "model.add(Embedding(top_words, embedding_vecor_length, input_length=max_review_length))\n",
        "model.add(LSTM(100, return_sequences=True))\n",
        "model.add(LSTM(100))\n",
        "model.add(Dense(1, activation='sigmoid'))\n",
        "model.compile(loss='binary_crossentropy', optimizer='adam', metrics=['accuracy'])\n",
        "print(model.summary())"
      ],
      "metadata": {
        "colab": {
          "base_uri": "https://localhost:8080/"
        },
        "id": "ENxFZ9AsK7Eu",
        "outputId": "4aea24ef-c4d1-41c7-ccf2-108198e47e56"
      },
      "execution_count": 9,
      "outputs": [
        {
          "output_type": "stream",
          "name": "stdout",
          "text": [
            "Model: \"sequential_1\"\n",
            "_________________________________________________________________\n",
            " Layer (type)                Output Shape              Param #   \n",
            "=================================================================\n",
            " embedding_1 (Embedding)     (None, 500, 32)           160000    \n",
            "                                                                 \n",
            " lstm_1 (LSTM)               (None, 500, 100)          53200     \n",
            "                                                                 \n",
            " lstm_2 (LSTM)               (None, 100)               80400     \n",
            "                                                                 \n",
            " dense (Dense)               (None, 1)                 101       \n",
            "                                                                 \n",
            "=================================================================\n",
            "Total params: 293,701\n",
            "Trainable params: 293,701\n",
            "Non-trainable params: 0\n",
            "_________________________________________________________________\n",
            "None\n"
          ]
        }
      ]
    },
    {
      "cell_type": "code",
      "source": [
        "history1 = model.fit(X_train, y_train, validation_data=(X_test, y_test), epochs=5, batch_size=64)"
      ],
      "metadata": {
        "colab": {
          "base_uri": "https://localhost:8080/"
        },
        "id": "YC_vn85CK-EM",
        "outputId": "d804c655-ccfc-4b0e-ec2e-9a913b7fe29e"
      },
      "execution_count": 10,
      "outputs": [
        {
          "output_type": "stream",
          "name": "stdout",
          "text": [
            "Epoch 1/5\n",
            "391/391 [==============================] - 77s 174ms/step - loss: 0.4646 - accuracy: 0.7847 - val_loss: 0.3447 - val_accuracy: 0.8572\n",
            "Epoch 2/5\n",
            "391/391 [==============================] - 38s 97ms/step - loss: 0.4604 - accuracy: 0.7698 - val_loss: 0.3976 - val_accuracy: 0.8217\n",
            "Epoch 3/5\n",
            "391/391 [==============================] - 31s 79ms/step - loss: 0.4000 - accuracy: 0.8212 - val_loss: 0.5257 - val_accuracy: 0.7355\n",
            "Epoch 4/5\n",
            "391/391 [==============================] - 31s 80ms/step - loss: 0.4589 - accuracy: 0.7796 - val_loss: 0.3684 - val_accuracy: 0.8463\n",
            "Epoch 5/5\n",
            "391/391 [==============================] - 26s 67ms/step - loss: 0.2896 - accuracy: 0.8859 - val_loss: 0.3260 - val_accuracy: 0.8637\n"
          ]
        }
      ]
    },
    {
      "cell_type": "code",
      "source": [
        "plot_history(history=history1, metrics=[\"accuracy\"],model_name=\"\")\n",
        "plot_history(history=history1, metrics=[\"loss\"],model_name=\"\")"
      ],
      "metadata": {
        "colab": {
          "base_uri": "https://localhost:8080/",
          "height": 573
        },
        "id": "t_ff4cnEOx7V",
        "outputId": "46a1706b-4242-453c-ea00-cbd6ec744325"
      },
      "execution_count": 13,
      "outputs": [
        {
          "output_type": "display_data",
          "data": {
            "text/plain": [
              "<Figure size 576x288 with 1 Axes>"
            ],
            "image/png": "[encoded data removed]"
          },
          "metadata": {
            "needs_background": "light"
          }
        },
        {
          "output_type": "display_data",
          "data": {
            "text/plain": [
              "<Figure size 576x288 with 1 Axes>"
            ],
            "image/png": "[encoded data removed]"
          },
          "metadata": {
            "needs_background": "light"
          }
        }
      ]
    },
    {
      "cell_type": "code",
      "source": [
        "# Final evaluation of the model\n",
        "scores = model.evaluate(X_test, y_test, verbose=0)\n",
        "print(\"Accuracy: %.2f%%\" % (scores[1]*100))"
      ],
      "metadata": {
        "colab": {
          "base_uri": "https://localhost:8080/"
        },
        "id": "1mUH81wRLWRR",
        "outputId": "106b0478-938e-4f56-8cef-65fa17842644"
      },
      "execution_count": 14,
      "outputs": [
        {
          "output_type": "stream",
          "name": "stdout",
          "text": [
            "Accuracy: 86.37%\n"
          ]
        }
      ]
    },
    {
      "cell_type": "markdown",
      "source": [
        "## Model 2\n",
        "- LSTM with Dropout"
      ],
      "metadata": {
        "id": "5Yn5U_t2MieQ"
      }
    },
    {
      "cell_type": "code",
      "source": [
        "model2 = Sequential()\n",
        "model2.add(Embedding(top_words, embedding_vecor_length, input_length=max_review_length))\n",
        "model2.add(Dropout(0.2))\n",
        "model2.add(LSTM(100))\n",
        "model2.add(Dropout(0.2))\n",
        "model2.add(Dense(1, activation='sigmoid'))\n",
        "model2.compile(loss='binary_crossentropy', optimizer='adam', metrics=['accuracy'])\n",
        "print(model.summary())"
      ],
      "metadata": {
        "colab": {
          "base_uri": "https://localhost:8080/"
        },
        "id": "FEJ4tyRlMhzn",
        "outputId": "9824a503-d49d-43b3-a4de-ff7290bc1efd"
      },
      "execution_count": 15,
      "outputs": [
        {
          "output_type": "stream",
          "name": "stdout",
          "text": [
            "Model: \"sequential_1\"\n",
            "_________________________________________________________________\n",
            " Layer (type)                Output Shape              Param #   \n",
            "=================================================================\n",
            " embedding_1 (Embedding)     (None, 500, 32)           160000    \n",
            "                                                                 \n",
            " lstm_1 (LSTM)               (None, 500, 100)          53200     \n",
            "                                                                 \n",
            " lstm_2 (LSTM)               (None, 100)               80400     \n",
            "                                                                 \n",
            " dense (Dense)               (None, 1)                 101       \n",
            "                                                                 \n",
            "=================================================================\n",
            "Total params: 293,701\n",
            "Trainable params: 293,701\n",
            "Non-trainable params: 0\n",
            "_________________________________________________________________\n",
            "None\n"
          ]
        }
      ]
    },
    {
      "cell_type": "code",
      "source": [
        "history2=model2.fit(X_train, y_train, epochs=5, batch_size=64)"
      ],
      "metadata": {
        "colab": {
          "base_uri": "https://localhost:8080/"
        },
        "id": "PMtm6F9FM9uM",
        "outputId": "2e0ce3ec-5dbc-46d6-e183-b198b64c5a78"
      },
      "execution_count": 16,
      "outputs": [
        {
          "output_type": "stream",
          "name": "stdout",
          "text": [
            "Epoch 1/5\n",
            "391/391 [==============================] - 43s 101ms/step - loss: 0.4526 - accuracy: 0.7844\n",
            "Epoch 2/5\n",
            "391/391 [==============================] - 20s 50ms/step - loss: 0.3212 - accuracy: 0.8737\n",
            "Epoch 3/5\n",
            "391/391 [==============================] - 13s 34ms/step - loss: 0.2734 - accuracy: 0.8917\n",
            "Epoch 4/5\n",
            "391/391 [==============================] - 12s 31ms/step - loss: 0.2241 - accuracy: 0.9140\n",
            "Epoch 5/5\n",
            "391/391 [==============================] - 11s 29ms/step - loss: 0.2012 - accuracy: 0.9242\n"
          ]
        }
      ]
    },
    {
      "cell_type": "code",
      "source": [
        "# Final evaluation of the model\n",
        "scores2 = model2.evaluate(X_test, y_test, verbose=0)\n",
        "print(\"Accuracy: %.2f%%\" % (scores2[1]*100))"
      ],
      "metadata": {
        "colab": {
          "base_uri": "https://localhost:8080/"
        },
        "id": "Vg9uD52JM_48",
        "outputId": "fd43e1bd-44b8-4412-b121-1860606ded39"
      },
      "execution_count": 17,
      "outputs": [
        {
          "output_type": "stream",
          "name": "stdout",
          "text": [
            "Accuracy: 87.63%\n"
          ]
        }
      ]
    },
    {
      "cell_type": "code",
      "source": [
        "plot_history(history=history2, metrics=[\"accuracy\"],model_name=\"\")\n",
        "plot_history(history=history2, metrics=[\"loss\"],model_name=\"\")"
      ],
      "metadata": {
        "id": "JqrSLN15PLfs"
      },
      "execution_count": null,
      "outputs": []
    },
    {
      "cell_type": "markdown",
      "source": [
        "## Model 3\n",
        "- SimpleRNN "
      ],
      "metadata": {
        "id": "SHP2cDe1NOBL"
      }
    },
    {
      "cell_type": "code",
      "source": [
        "model3 = Sequential()\n",
        "model3.add(Embedding(top_words, embedding_vecor_length, input_length=max_review_length))\n",
        "\n",
        "# The output of SimpleRNN will be a 2D tensor of shape (batch_size, 128)\n",
        "model3.add(SimpleRNN(128, return_sequences=True))\n",
        "model3.add(SimpleRNN(128))\n",
        "\n",
        "model3.add(Dense(10))\n",
        "\n",
        "model3.summary()"
      ],
      "metadata": {
        "colab": {
          "base_uri": "https://localhost:8080/"
        },
        "id": "eQKb-U1nNAvg",
        "outputId": "066c5ab8-c092-46ad-c425-d952d9b45596"
      },
      "execution_count": 22,
      "outputs": [
        {
          "output_type": "stream",
          "name": "stdout",
          "text": [
            "Model: \"sequential_3\"\n",
            "_________________________________________________________________\n",
            " Layer (type)                Output Shape              Param #   \n",
            "=================================================================\n",
            " embedding_3 (Embedding)     (None, 500, 32)           160000    \n",
            "                                                                 \n",
            " simple_rnn (SimpleRNN)      (None, 500, 128)          20608     \n",
            "                                                                 \n",
            " simple_rnn_1 (SimpleRNN)    (None, 128)               32896     \n",
            "                                                                 \n",
            " dense_2 (Dense)             (None, 10)                1290      \n",
            "                                                                 \n",
            "=================================================================\n",
            "Total params: 214,794\n",
            "Trainable params: 214,794\n",
            "Non-trainable params: 0\n",
            "_________________________________________________________________\n"
          ]
        }
      ]
    },
    {
      "cell_type": "code",
      "source": [
        "model3.compile(loss='binary_crossentropy', optimizer='adam', metrics=['accuracy'])\n",
        "\n",
        "his3 = model3.fit(X_train, y_train, validation_data=(X_test, y_test), epochs=5, batch_size=64)"
      ],
      "metadata": {
        "id": "NBA7vSizNr-d"
      },
      "execution_count": null,
      "outputs": []
    },
    {
      "cell_type": "code",
      "source": [
        "# Final evaluation of the model\n",
        "scores3 = model3.evaluate(X_test, y_test, verbose=0)\n",
        "print(\"Accuracy: %.2f%%\" % (scores3[1]*100))"
      ],
      "metadata": {
        "id": "IGOepA5QN-Zo"
      },
      "execution_count": null,
      "outputs": []
    },
    {
      "cell_type": "code",
      "source": [
        "plot_history(history=his3, metrics=[\"accuracy\"],model_name=\"\")\n",
        "plot_history(history=his3, metrics=[\"loss\"],model_name=\"\")"
      ],
      "metadata": {
        "id": "rRKQKWmkQk8k"
      },
      "execution_count": null,
      "outputs": []
    },
    {
      "cell_type": "markdown",
      "source": [
        "## Model 4\n",
        "- Bidirectional LSTM "
      ],
      "metadata": {
        "id": "J7souLraOEfx"
      }
    },
    {
      "cell_type": "code",
      "source": [
        "model4 = Sequential()\n",
        "model4.add(Embedding(top_words, embedding_vecor_length, input_length=max_review_length))\n",
        "model4.add(Bidirectional(LSTM(100, dropout=0.2, recurrent_dropout=0.2)))\n",
        "model4.add(Dense(1, activation='sigmoid'))\n",
        "model4.compile(loss='binary_crossentropy', optimizer='adam', metrics=['accuracy'])\n",
        "print(model4.summary())"
      ],
      "metadata": {
        "colab": {
          "base_uri": "https://localhost:8080/"
        },
        "id": "coikfFSRODbQ",
        "outputId": "f1c74ed5-8352-4014-ca04-ab2b363736e3"
      },
      "execution_count": 9,
      "outputs": [
        {
          "output_type": "stream",
          "name": "stderr",
          "text": [
            "WARNING:tensorflow:Layer lstm will not use cuDNN kernels since it doesn't meet the criteria. It will use a generic GPU kernel as fallback when running on GPU.\n",
            "WARNING:tensorflow:Layer lstm will not use cuDNN kernels since it doesn't meet the criteria. It will use a generic GPU kernel as fallback when running on GPU.\n",
            "WARNING:tensorflow:Layer lstm will not use cuDNN kernels since it doesn't meet the criteria. It will use a generic GPU kernel as fallback when running on GPU.\n"
          ]
        },
        {
          "output_type": "stream",
          "name": "stdout",
          "text": [
            "Model: \"sequential_1\"\n",
            "_________________________________________________________________\n",
            " Layer (type)                Output Shape              Param #   \n",
            "=================================================================\n",
            " embedding (Embedding)       (None, 500, 32)           160000    \n",
            "                                                                 \n",
            " bidirectional (Bidirectiona  (None, 200)              106400    \n",
            " l)                                                              \n",
            "                                                                 \n",
            " dense (Dense)               (None, 1)                 201       \n",
            "                                                                 \n",
            "=================================================================\n",
            "Total params: 266,601\n",
            "Trainable params: 266,601\n",
            "Non-trainable params: 0\n",
            "_________________________________________________________________\n",
            "None\n"
          ]
        }
      ]
    },
    {
      "cell_type": "code",
      "source": [
        "his4 = model4.fit(X_train, y_train, epochs=5, batch_size=64)"
      ],
      "metadata": {
        "colab": {
          "base_uri": "https://localhost:8080/"
        },
        "id": "ThEgQlYOPt72",
        "outputId": "fb58bc97-b1de-4082-c3c2-c1981276d353"
      },
      "execution_count": null,
      "outputs": [
        {
          "output_type": "stream",
          "name": "stdout",
          "text": [
            " 66/391 [====>.........................] - ETA: 24:23 - loss: 0.6723 - accuracy: 0.5810"
          ]
        }
      ]
    },
    {
      "cell_type": "code",
      "source": [
        "# Final evaluation of the model\n",
        "scores4 = model4.evaluate(X_test, y_test, verbose=0)\n",
        "print(\"Accuracy: %.2f%%\" % (scores4[1]*100))"
      ],
      "metadata": {
        "id": "DCfElBMDP7rW"
      },
      "execution_count": null,
      "outputs": []
    },
    {
      "cell_type": "code",
      "source": [
        "plot_history(history=his4, metrics=[\"accuracy\"],model_name=\"\")\n",
        "plot_history(history=his4, metrics=[\"loss\"],model_name=\"\")"
      ],
      "metadata": {
        "id": "QYy2_PhAQeKd"
      },
      "execution_count": null,
      "outputs": []
    },
    {
      "cell_type": "code",
      "source": [],
      "metadata": {
        "id": "ntMNS5qlQj1G"
      },
      "execution_count": null,
      "outputs": []
    }
  ]
}